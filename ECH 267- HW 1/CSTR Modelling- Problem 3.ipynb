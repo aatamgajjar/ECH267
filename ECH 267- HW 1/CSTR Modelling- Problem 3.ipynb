{
 "cells": [
  {
   "cell_type": "code",
   "execution_count": 1,
   "id": "45b97028",
   "metadata": {},
   "outputs": [],
   "source": [
    "import numpy as np\n",
    "import matplotlib.pyplot as plt\n",
    "from scipy.integrate import odeint\n",
    "from scipy import signal"
   ]
  },
  {
   "cell_type": "code",
   "execution_count": 10,
   "id": "644fcaa6",
   "metadata": {},
   "outputs": [
    {
     "data": {
      "image/png": "[encoded data removed]",
      "text/plain": [
       "<Figure size 432x288 with 3 Axes>"
      ]
     },
     "metadata": {
      "needs_background": "light"
     },
     "output_type": "display_data"
    }
   ],
   "source": [
    "# Define State Space Model\n",
    "# (u) are inputs\n",
    "#  u[0] = Caf\n",
    "#  u[1] = Tf\n",
    "# States = x\n",
    "# Outputs = y\n",
    "#  x[0] = y[0] = Ca\n",
    "#  x[1] = y[1] = T\n",
    "# dx/dt = A * x + B * u\n",
    "#     y = C * x + D * u\n",
    "# Equations\n",
    "# H = 20 J/moles\n",
    "# rA = 0.5 * Ca\n",
    "# V * dCa/dt = qf*Caf - q*Ca - rA*V\n",
    "# V * dT/dt  = qf*Tf - q*T + H*rA*V\n",
    "# Substituting given values\n",
    "# dCa/dt = 0.25*(Caf - Ca) - 0.5*Ca\n",
    "# dT/dt  = 0.25*(Tf  - T) + 10.0*Ca\n",
    "# Define matrices for state space\n",
    "n = 2\n",
    "m = 1\n",
    "p = 2\n",
    "A = np.zeros((n,n))\n",
    "B = np.zeros((n,m))\n",
    "# Linearized equation non-zero elements\n",
    "A[0,0] = -0.75\n",
    "B[0,0] = 0.25\n",
    "A[1,0] = 10.0\n",
    "A[1,1] = -0.25\n",
    "\n",
    "# Matrices for outputs\n",
    "C = np.eye(n)\n",
    "D = np.zeros((p,m))\n",
    "# Define state space model\n",
    "sys = signal.StateSpace(A,B,C,D)\n",
    "# Step of 1.0 to 10 min\n",
    "t = np.linspace(0,10,101)\n",
    "t_sys,y_sys = signal.step(sys,T=t)\n",
    "# Step of -0.1\n",
    "y_sys = -0.1 * y_sys\n",
    "# Add steady state values\n",
    "Ca0 = 0.5\n",
    "T0 = 305.0\n",
    "Ca_sys = y_sys[:,0] + Ca0\n",
    "T_sys = y_sys[:,1] + T0\n",
    "\n",
    "\n",
    "# Plot the inputs and results\n",
    "plt.figure()\n",
    "\n",
    "plt.subplot(3,1,1)\n",
    "Caf[0] = 1.0\n",
    "plt.plot(t,Caf,'k-',label='Caf')\n",
    "plt.legend(loc='best')\n",
    "\n",
    "plt.subplot(3,1,2)\n",
    "plt.plot(t,Ca,'r-',label='Ca')\n",
    "plt.plot(t_sys,Ca_sys,'b--',label='Ca (State Space)')\n",
    "plt.legend(loc='best')\n",
    "\n",
    "plt.subplot(3,1,3)\n",
    "plt.plot(t,T,'r-',label='T')\n",
    "plt.plot(t_sys,T_sys,'b--',label='T (State Space)')\n",
    "plt.legend(loc='best')\n",
    "plt.xlabel('Time (min)')\n",
    "plt.savefig('CSTR Modelling')\n",
    "plt.show()"
   ]
  },
  {
   "cell_type": "code",
   "execution_count": null,
   "id": "c6ae0ccc",
   "metadata": {},
   "outputs": [],
   "source": []
  },
  {
   "cell_type": "code",
   "execution_count": null,
   "id": "23f2733e",
   "metadata": {},
   "outputs": [],
   "source": []
  }
 ],
 "metadata": {
  "kernelspec": {
   "display_name": "Python 3",
   "language": "python",
   "name": "python3"
  },
  "language_info": {
   "codemirror_mode": {
    "name": "ipython",
    "version": 3
   },
   "file_extension": ".py",
   "mimetype": "text/x-python",
   "name": "python",
   "nbconvert_exporter": "python",
   "pygments_lexer": "ipython3",
   "version": "3.8.8"
  }
 },
 "nbformat": 4,
 "nbformat_minor": 5
}
